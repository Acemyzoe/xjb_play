{
 "metadata": {
  "language_info": {
   "codemirror_mode": {
    "name": "ipython",
    "version": 3
   },
   "file_extension": ".py",
   "mimetype": "text/x-python",
   "name": "python",
   "nbconvert_exporter": "python",
   "pygments_lexer": "ipython3",
   "version": "3.8.5-final"
  },
  "orig_nbformat": 2,
  "kernelspec": {
   "name": "python3",
   "display_name": "Python 3",
   "language": "python"
  }
 },
 "nbformat": 4,
 "nbformat_minor": 2,
 "cells": [
  {
   "cell_type": "code",
   "execution_count": 1,
   "metadata": {},
   "outputs": [
    {
     "output_type": "execute_result",
     "data": {
      "text/plain": [
       "'two'"
      ]
     },
     "metadata": {},
     "execution_count": 1
    }
   ],
   "source": [
    "import re\n",
    "re.match(\"t.o\",\"two\").group()"
   ]
  },
  {
   "cell_type": "code",
   "execution_count": 2,
   "metadata": {},
   "outputs": [
    {
     "output_type": "stream",
     "name": "stdout",
     "text": [
      "H\nHello Python\n7Hello Python\n0Hello Python\nMnn\n"
     ]
    }
   ],
   "source": [
    "ret = re.match(\"H\",\"Hello Python\") \n",
    "print(ret.group())\n",
    "ret = re.match(\"[hH]ello Python\",\"Hello Python\")\n",
    "print(ret.group())\n",
    "ret = re.match(\"[0-35-9]Hello Python\",\"7Hello Python，4Hello Python\")\n",
    "print(ret.group())\n",
    "ret = re.match(\"\\dHello Python\",\"0Hello Python\") \n",
    "print(ret.group())\n",
    "ret = re.match(\"[A-Z][a-z]*\",\"MnnMn\")\n",
    "print(ret.group())"
   ]
  },
  {
   "cell_type": "code",
   "execution_count": 3,
   "metadata": {},
   "outputs": [
    {
     "output_type": "stream",
     "name": "stdout",
     "text": [
      "['bcd abc']\n['bcd abcd']\n"
     ]
    }
   ],
   "source": [
    "string = '''abcd abcdD'''\n",
    "# 1. 编译正则表达式\n",
    "# (.*)      贪婪匹配，尽可能多匹配直到无法匹配\n",
    "# (.*?)     非贪婪匹配，只要匹配到就返回\n",
    "#  . 符号默认不包含换行符，DOTALL模式表示让 . 符号匹配任何字符包括换行符\n",
    "\n",
    "# re.DOTALL == re.S == re.RegexFlag.DOTALL == re.RegexFlag.S\n",
    "pattern1 = re.compile(r'a(.*)d',re.S)\n",
    "# re.IGNORECASE == re.I == re.RegexFlag.IGNORECASE == re.RegexFlag.I\n",
    "# 忽略大小写并且支持 DOTALL模式 使用 |\n",
    "pattern2 = re.compile(r'a(.*)d',re.S | re.I)\n",
    "\n",
    "# 2. 提取数据\n",
    "print(pattern1.findall(string))\n",
    "print(pattern2.findall(string))"
   ]
  },
  {
   "cell_type": "code",
   "execution_count": 4,
   "metadata": {},
   "outputs": [
    {
     "output_type": "stream",
     "name": "stdout",
     "text": [
      "123\n123\n['123', '123']\n123\n123\n"
     ]
    }
   ],
   "source": [
    "string = \"123abc123\"\n",
    "pattern = re.compile('\\d+')\n",
    "# match 开头匹配，只匹配一次\n",
    "print(pattern.match(string).group())\n",
    "# search 全局匹配，只匹配一次\n",
    "print(pattern.search(string).group())\n",
    "\n",
    "'''\n",
    "findall 优点：使用简单，缺点：必须把所有数据搜索返回再返回\n",
    "finditer 优点：找到就返回，可以边找边返回\n",
    "如果数据量小 使用 findall\n",
    "如果数据量大 使用 finditer\n",
    "'''\n",
    "# findall 匹配所有符号条件的数据，返回是 结果列表\n",
    "print(pattern.findall(string))\n",
    "# finditer 迭代对象，迭代 Match 对象\n",
    "results = pattern.finditer(string)\n",
    "for result in results:\n",
    "    print(result.group())"
   ]
  },
  {
   "cell_type": "code",
   "execution_count": 5,
   "metadata": {},
   "outputs": [
    {
     "output_type": "stream",
     "name": "stdout",
     "text": [
      "['a', 'dj', 'jkl', 'jj', 'j', 'sd']\nworld hello;sjd;ssdjkls;sdjk;lyj crise\n"
     ]
    }
   ],
   "source": [
    "string = \"a;dj jkl,jj; j;sd\"\n",
    "# split 分组\n",
    "pattern = re.compile(r'[; ,]+')\n",
    "print(pattern.split(string))\n",
    "\n",
    "# sub 交换\n",
    "string = \"hello world;sjd;ssdjkls;sdjk;crise lyj\"\n",
    "# 带空格的词组交换位置#\n",
    "pattern = re.compile(r'(\\w+) (\\w+)')\n",
    "print(pattern.sub(r\"\\2 \\1\",string))"
   ]
  },
  {
   "cell_type": "code",
   "execution_count": null,
   "metadata": {},
   "outputs": [],
   "source": []
  }
 ]
}