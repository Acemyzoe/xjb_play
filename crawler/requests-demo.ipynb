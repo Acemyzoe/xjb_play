{
 "metadata": {
  "language_info": {
   "codemirror_mode": {
    "name": "ipython",
    "version": 3
   },
   "file_extension": ".py",
   "mimetype": "text/x-python",
   "name": "python",
   "nbconvert_exporter": "python",
   "pygments_lexer": "ipython3",
   "version": "3.8.5-final"
  },
  "orig_nbformat": 2,
  "kernelspec": {
   "name": "python3",
   "display_name": "Python 3",
   "language": "python"
  }
 },
 "nbformat": 4,
 "nbformat_minor": 2,
 "cells": [
  {
   "cell_type": "code",
   "execution_count": null,
   "metadata": {},
   "outputs": [],
   "source": [
    "# 导入模块\n",
    "import requests\n",
    "# 定义请求地址\n",
    "url = 'http://www.baidu.com'\n",
    "# 发送 GET 请求获取响应\n",
    "response = requests.get(url)\n",
    "# 获取响应的 html 内容\n",
    "html = response.text\n",
    "# 获取字节数据\n",
    "content = response.content\n",
    "# 转换成字符串类型\n",
    "html = content.decode('utf-8')\n",
    "html"
   ]
  },
  {
   "cell_type": "code",
   "execution_count": null,
   "metadata": {},
   "outputs": [],
   "source": []
  }
 ]
}