{
 "metadata": {
  "language_info": {
   "codemirror_mode": {
    "name": "ipython",
    "version": 3
   },
   "file_extension": ".py",
   "mimetype": "text/x-python",
   "name": "python",
   "nbconvert_exporter": "python",
   "pygments_lexer": "ipython3",
   "version": "3.8.5-final"
  },
  "orig_nbformat": 2,
  "kernelspec": {
   "name": "python3",
   "display_name": "Python 3",
   "language": "python"
  }
 },
 "nbformat": 4,
 "nbformat_minor": 2,
 "cells": [
  {
   "cell_type": "code",
   "execution_count": null,
   "metadata": {},
   "outputs": [],
   "source": [
    "import json\n",
    "# json.loads json字符串 转 Python数据类型\n",
    "json_string = '''\n",
    "{\n",
    "    \"name\": \"crise\",\n",
    "    \"age\": 18,\n",
    "    \"parents\": {\n",
    "        \"monther\": \"妈妈\",\n",
    "        \"father\": \"爸爸\"\n",
    "    }\n",
    "}\n",
    "'''"
   ]
  },
  {
   "cell_type": "code",
   "execution_count": null,
   "metadata": {},
   "outputs": [],
   "source": [
    "print(\"json_string数据类型：\",type(json_string))\n",
    "data = json.loads(json_string)\n",
    "print(data)\n",
    "print(\"data数据类型：\",type(data))"
   ]
  },
  {
   "cell_type": "code",
   "execution_count": null,
   "metadata": {},
   "outputs": [],
   "source": [
    "# json.dumps Python数据类型 转 json字符串\n",
    "json_string_2 = json.dumps(data,ensure_ascii=False)\n",
    "print(\"json_string数据类型：\",type(json_string_2))\n",
    "print(json_string_2)"
   ]
  },
  {
   "cell_type": "code",
   "execution_count": null,
   "metadata": {},
   "outputs": [],
   "source": [
    "# json.dump Python数据类型 转 json文件\n",
    "with open('data.json','w',encoding='utf-8') as f:\n",
    "    json.dump(data,f,ensure_ascii=False,indent=2)"
   ]
  },
  {
   "cell_type": "code",
   "execution_count": null,
   "metadata": {
    "tags": [
     "outputPrepend"
    ]
   },
   "outputs": [],
   "source": [
    "'通过一种语法规则快速从 JSON 数据中提取数据。类似于 正则表达式 通过一定规则从 text 文本内容提取数据。'\n",
    "# 网络获取数据\n",
    "import requests\n",
    "import json\n",
    "import jsonpath\n",
    "\n",
    "url = \"http://www.lagou.com/lbs/getAllCitySearchLabels.json\"\n",
    "headers = {\n",
    "    \"User-Agent\": \"Mozilla/5.0 (Macintosh; Intel Mac OS X 10_14_0) AppleWebKit/537.36 (KHTML, like Gecko) Chrome/71.0.3578.98 Safari/537.36\"\n",
    "}\n",
    "\n",
    "response = requests.get(url,headers=headers)\n",
    "html = response.text\n",
    "print(html)\n",
    "# 把响应数据转换成python数据类型\n",
    "data = json.loads(html)\n",
    "\n",
    "# 使用 jsonpath 提取数据\n",
    "cities = jsonpath.jsonpath(data,'$..name')\n",
    "print(cities)"
   ]
  },
  {
   "cell_type": "code",
   "execution_count": 3,
   "metadata": {},
   "outputs": [
    {
     "output_type": "execute_result",
     "data": {
      "text/plain": [
       "'hi'"
      ]
     },
     "metadata": {},
     "execution_count": 3
    }
   ],
   "source": [
    "'0\\d{2}-\\d{8} 这个就是一个正则表达式，表达的意思是匹配的是座机号码'\n",
    "import re\n",
    "re.match('hi','hihilili').group()"
   ]
  },
  {
   "cell_type": "code",
   "execution_count": null,
   "metadata": {},
   "outputs": [],
   "source": []
  }
 ]
}