{
 "metadata": {
  "language_info": {
   "codemirror_mode": {
    "name": "ipython",
    "version": 3
   },
   "file_extension": ".py",
   "mimetype": "text/x-python",
   "name": "python",
   "nbconvert_exporter": "python",
   "pygments_lexer": "ipython3",
   "version": "3.8.5-final"
  },
  "orig_nbformat": 2,
  "kernelspec": {
   "name": "python3",
   "display_name": "Python 3",
   "language": "python"
  }
 },
 "nbformat": 4,
 "nbformat_minor": 2,
 "cells": [
  {
   "cell_type": "code",
   "execution_count": 1,
   "metadata": {},
   "outputs": [],
   "source": [
    "import json\n",
    "# json.loads json字符串 转 Python数据类型\n",
    "json_string = '''\n",
    "{\n",
    "    \"name\": \"crise\",\n",
    "    \"age\": 18,\n",
    "    \"parents\": {\n",
    "        \"monther\": \"妈妈\",\n",
    "        \"father\": \"爸爸\"\n",
    "    }\n",
    "}\n",
    "'''"
   ]
  },
  {
   "cell_type": "code",
   "execution_count": 5,
   "metadata": {},
   "outputs": [
    {
     "output_type": "stream",
     "name": "stdout",
     "text": [
      "json_string数据类型： <class 'str'>\n{'name': 'crise', 'age': 18, 'parents': {'monther': '妈妈', 'father': '爸爸'}}\ndata数据类型： <class 'dict'>\n"
     ]
    }
   ],
   "source": [
    "print(\"json_string数据类型：\",type(json_string))\n",
    "data = json.loads(json_string)\n",
    "print(data)\n",
    "print(\"data数据类型：\",type(data))"
   ]
  },
  {
   "cell_type": "code",
   "execution_count": 9,
   "metadata": {},
   "outputs": [
    {
     "output_type": "stream",
     "name": "stdout",
     "text": [
      "json_string数据类型： <class 'str'>\n{\"name\": \"crise\", \"age\": 18, \"parents\": {\"monther\": \"妈妈\", \"father\": \"爸爸\"}}\n"
     ]
    }
   ],
   "source": [
    "# json.dumps Python数据类型 转 json字符串\n",
    "json_string_2 = json.dumps(data,ensure_ascii=False)\n",
    "print(\"json_string数据类型：\",type(json_string_2))\n",
    "print(json_string_2)"
   ]
  },
  {
   "cell_type": "code",
   "execution_count": 10,
   "metadata": {},
   "outputs": [],
   "source": [
    "# json.dump Python数据类型 转 json文件\n",
    "with open('data.json','w',encoding='utf-8') as f:\n",
    "    json.dump(data,f,ensure_ascii=False,indent=2)"
   ]
  },
  {
   "cell_type": "code",
   "execution_count": null,
   "metadata": {},
   "outputs": [],
   "source": []
  }
 ]
}