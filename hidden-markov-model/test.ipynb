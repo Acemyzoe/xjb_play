{
 "metadata": {
  "language_info": {
   "codemirror_mode": {
    "name": "ipython",
    "version": 3
   },
   "file_extension": ".py",
   "mimetype": "text/x-python",
   "name": "python",
   "nbconvert_exporter": "python",
   "pygments_lexer": "ipython3",
   "version": "3.8.5-final"
  },
  "orig_nbformat": 2,
  "kernelspec": {
   "name": "python3",
   "display_name": "Python 3.8.5 64-bit",
   "metadata": {
    "interpreter": {
     "hash": "767d51c1340bd893661ea55ea3124f6de3c7a262a8b4abca0554b478b1e2ff90"
    }
   }
  }
 },
 "nbformat": 4,
 "nbformat_minor": 2,
 "cells": [
  {
   "cell_type": "code",
   "execution_count": 11,
   "metadata": {},
   "outputs": [],
   "source": [
    "import numpy as np\n",
    "\n",
    "import hmm"
   ]
  },
  {
   "cell_type": "code",
   "execution_count": 12,
   "metadata": {},
   "outputs": [],
   "source": [
    "def generate_index_map(lables):\n",
    "    index_label = {}\n",
    "    label_index = {}\n",
    "    i = 0\n",
    "    for l in lables:\n",
    "        index_label[i] = l\n",
    "        label_index[l] = i\n",
    "        i += 1\n",
    "    return label_index, index_label\n",
    "\n",
    "def convert_observations_to_index(observations, label_index):\n",
    "    list = []\n",
    "    for o in observations:\n",
    "        list.append(label_index[o])\n",
    "    return list\n",
    "\n",
    "def convert_map_to_vector(map, label_index):\n",
    "    v = np.empty(len(map), dtype=float)\n",
    "    for e in map:\n",
    "        v[label_index[e]] = map[e]\n",
    "    return v\n",
    "\n",
    "def convert_map_to_matrix(map, label_index1, label_index2):\n",
    "    m = np.empty((len(label_index1), len(label_index2)), dtype=float)\n",
    "    for line in map:\n",
    "        for col in map[line]:\n",
    "            m[label_index1[line]][label_index2[col]] = map[line][col]\n",
    "    return m"
   ]
  },
  {
   "cell_type": "code",
   "execution_count": 13,
   "metadata": {},
   "outputs": [],
   "source": [
    "# 感冒这种病，只跟病人前一天的病情有关，并且当天的病情决定当天的身体感觉。\n",
    "states = ('Healthy', 'Fever') # 病情\n",
    "observations = ('normal', 'cold', 'dizzy') # 最近三天观察到的身体感受\n",
    "start_probability = {'Healthy': 0.6, 'Fever': 0.4} # 病情的分布\n",
    "\n",
    "transition_probability = {\n",
    "    'Healthy': {'Healthy': 0.7, 'Fever': 0.3},\n",
    "    'Fever': {'Healthy': 0.4, 'Fever': 0.6},\n",
    "}   # 病情到病情的转移概率\n",
    "\n",
    "emission_probability = {\n",
    "    'Healthy': {'normal': 0.5, 'cold': 0.4, 'dizzy': 0.1},\n",
    "    'Fever': {'normal': 0.1, 'cold': 0.3, 'dizzy': 0.6},\n",
    "}   # 病情表现出身体状况的发射概率"
   ]
  },
  {
   "cell_type": "code",
   "execution_count": 24,
   "metadata": {},
   "outputs": [
    {
     "output_type": "stream",
     "name": "stdout",
     "text": [
      "{'Healthy': 0, 'Fever': 1}\n{0: 'Healthy', 1: 'Fever'}\n"
     ]
    }
   ],
   "source": [
    "# 将源数据的map形式转为NumPy的矩阵形式\n",
    "states_label_index, states_index_label = generate_index_map(states)\n",
    "observations_label_index, observations_index_label = generate_index_map(observations)\n",
    "print(states_label_index)\n",
    "print(states_index_label)"
   ]
  },
  {
   "cell_type": "code",
   "execution_count": 20,
   "metadata": {},
   "outputs": [
    {
     "output_type": "stream",
     "name": "stdout",
     "text": [
      "[[0.7 0.3]\n [0.4 0.6]]\n[[0.5 0.4 0.1]\n [0.1 0.3 0.6]]\n"
     ]
    }
   ],
   "source": [
    "A = convert_map_to_matrix(transition_probability, states_label_index, states_label_index)\n",
    "B = convert_map_to_matrix(emission_probability, states_label_index, observations_label_index)\n",
    "print(A)\n",
    "print(B)"
   ]
  },
  {
   "cell_type": "code",
   "execution_count": 23,
   "metadata": {},
   "outputs": [
    {
     "output_type": "stream",
     "name": "stdout",
     "text": [
      "[0, 1, 2]\n"
     ]
    }
   ],
   "source": [
    " observations_index = convert_observations_to_index(observations, observations_label_index)\n",
    " print(observations_index)"
   ]
  },
  {
   "cell_type": "code",
   "execution_count": 25,
   "metadata": {},
   "outputs": [
    {
     "output_type": "stream",
     "name": "stdout",
     "text": [
      "[0.6 0.4]\n"
     ]
    }
   ],
   "source": [
    "pi = convert_map_to_vector(start_probability, states_label_index)\n",
    "print(pi)"
   ]
  },
  {
   "cell_type": "code",
   "execution_count": 28,
   "metadata": {},
   "outputs": [
    {
     "output_type": "stream",
     "name": "stdout",
     "text": [
      "[[0.3     0.084   0.00588]\n [0.04    0.027   0.01512]]\n[[0 0]\n [0 0]]\n"
     ]
    }
   ],
   "source": [
    "h = hmm.HMM(A, B, pi)\n",
    "V, p = h.viterbi(observations_index)\n",
    "print(V)\n",
    "print(p)"
   ]
  },
  {
   "cell_type": "code",
   "execution_count": 29,
   "metadata": {},
   "outputs": [
    {
     "output_type": "stream",
     "name": "stdout",
     "text": [
      "            normal       cold      dizzy\n"
     ]
    }
   ],
   "source": [
    "print(\" \" * 7, \" \".join((\"%10s\" % observations_index_label[i]) for i in observations_index))"
   ]
  },
  {
   "cell_type": "code",
   "execution_count": 30,
   "metadata": {},
   "outputs": [
    {
     "output_type": "stream",
     "name": "stdout",
     "text": [
      "Healthy:   0.300000   0.084000   0.005880\n  Fever:   0.040000   0.027000   0.015120\n"
     ]
    }
   ],
   "source": [
    "for s in range(0, 2):\n",
    "        print(\"%7s: \" % states_index_label[s] + \" \".join(\"%10s\" % (\"%f\" % v) for v in V[s]))"
   ]
  },
  {
   "cell_type": "code",
   "execution_count": 35,
   "metadata": {},
   "outputs": [
    {
     "output_type": "stream",
     "name": "stdout",
     "text": [
      "Healthy\nHealthy\nFever\n0.01512\n"
     ]
    }
   ],
   "source": [
    "p, ss = h.state_path(observations_index)\n",
    "for s in ss:\n",
    "    print(states_index_label[s])\n",
    "print(p)"
   ]
  },
  {
   "cell_type": "code",
   "execution_count": 38,
   "metadata": {},
   "outputs": [
    {
     "output_type": "stream",
     "name": "stdout",
     "text": [
      "[0 0 0 0 0 0 0 1 0 0 1 1 0 0 0 0 0 0 0 1 0 0 0 1 0 0 0 0 0 0 0 0 0 1 0 0 0\n 1 0 0 0 0 0 0 0 0 1 0 0 0 1 0 1 1 1 0 0 1 0 1 0 0 1 0 0 0 0 0 1 1 1 1 1 1\n 1 1 1 1 0 1 1 0 0 0 0 1 0 0 0 0 0 0 0 1 1 1 1 1 1 0]\n"
     ]
    }
   ],
   "source": [
    "observations_data, states_data = h.simulate(100)\n",
    "print(states_data)"
   ]
  },
  {
   "cell_type": "code",
   "execution_count": 47,
   "metadata": {},
   "outputs": [
    {
     "output_type": "stream",
     "name": "stdout",
     "text": [
      "0.66\n"
     ]
    }
   ],
   "source": [
    "guess = hmm.HMM(np.array([[0.5, 0.5],\n",
    "                        [0.5, 0.5]]),\n",
    "                np.array([[0.3, 0.3, 0.3],\n",
    "                        [0.3, 0.3, 0.3]]),\n",
    "                np.array([0.5, 0.5])\n",
    "                )\n",
    "guess.baum_welch_train(observations_data)\n",
    "states_out = guess.state_path(observations_data)[1]\n",
    "\n",
    "p = 0.0\n",
    "for s in states_data:\n",
    "    if next(states_out) == s: \n",
    "        p += 1\n",
    "\n",
    "print(p / len(states_data))"
   ]
  },
  {
   "cell_type": "code",
   "execution_count": null,
   "metadata": {},
   "outputs": [],
   "source": []
  }
 ]
}