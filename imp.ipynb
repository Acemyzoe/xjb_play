{
 "metadata": {
  "language_info": {
   "codemirror_mode": {
    "name": "ipython",
    "version": 3
   },
   "file_extension": ".py",
   "mimetype": "text/x-python",
   "name": "python",
   "nbconvert_exporter": "python",
   "pygments_lexer": "ipython3",
   "version": "3.9.0-final"
  },
  "orig_nbformat": 2,
  "kernelspec": {
   "name": "python3",
   "display_name": "Python 3",
   "language": "python"
  }
 },
 "nbformat": 4,
 "nbformat_minor": 2,
 "cells": [
  {
   "cell_type": "code",
   "execution_count": null,
   "metadata": {},
   "outputs": [],
   "source": [
    "# 上下文管理就是在一个类里，实现了__enter__和__exit__的方法.\n",
    "class Resource():\n",
    "    def __enter__(self): # 资源的连接或者获取\n",
    "        print('===connect to resource===')\n",
    "        return self\n",
    "    def __exit__(self, exc_type, exc_val, exc_tb): # 资源的关闭\n",
    "        '''\n",
    "        exc_type：异常类型\n",
    "        exc_val：异常值\n",
    "        exc_tb：异常的错误栈信息\n",
    "        '''\n",
    "        print('===close resource connection===')\n",
    "        return True\n",
    "\n",
    "    def operate(self):\n",
    "        print('===in operation===')\n",
    "        1/0 # 未抛出异常\n",
    "\n",
    "with Resource() as res:\n",
    "    res.operate()\n",
    "\n",
    "# 使用上下文管理器\n",
    "# 可以以一种更加优雅的方式，管理（创建/获取/释放）资源，如文件操作、数据库连接\n",
    "# 可以以一种更加优雅的方式，处理异常"
   ]
  },
  {
   "cell_type": "code",
   "execution_count": null,
   "metadata": {},
   "outputs": [],
   "source": [
    "# contextlib提供了一个装饰器将函数变成一个上下文管理器\n",
    "import contextlib\n",
    "\n",
    "@contextlib.contextmanager\n",
    "def open_func(file_name):\n",
    "    # __enter__方法\n",
    "    print('open file:', file_name, 'in __enter__')\n",
    "    file_handler = open(file_name, 'r')\n",
    "\n",
    "    try:\n",
    "        # 【重点】：yield\n",
    "        yield file_handler\n",
    "    except Exception as exc:\n",
    "        # deal with exception\n",
    "        print('the exception was thrown')\n",
    "    finally:\n",
    "        # __exit__方法\n",
    "        print('close file:', file_name, 'in __exit__')\n",
    "        file_handler.close()\n",
    "        return\n",
    "\n",
    "with open_func('./demo.py') as file_in:\n",
    "    for line in file_in:\n",
    "        1/0\n",
    "        print(line)\n"
   ]
  },
  {
   "cell_type": "code",
   "execution_count": null,
   "metadata": {},
   "outputs": [],
   "source": [
    "# Descriptor（描述符）\n",
    "class Student:\n",
    "    def __init__(self, name, math, chinese, english):\n",
    "        self.name = name\n",
    "        self.math = math\n",
    "        self.chinese = chinese\n",
    "        self.english = english\n",
    "\n",
    "    def __repr__(self):\n",
    "        return \"<Student: {}, math:{}, chinese: {}, english:{}>\".format(\n",
    "                self.name, self.math, self.chinese, self.english\n",
    "            )\n",
    "std1 = Student('小明', 76, 87, 68)"
   ]
  },
  {
   "cell_type": "code",
   "execution_count": null,
   "metadata": {},
   "outputs": [],
   "source": [
    "# 一个实现了 描述符协议 的类就是一个描述符\n",
    "# 在类里实现了 __get__()、__set__()、__delete__() 其中至少一个方法\n",
    "# Score 类是一个描述符，当从 Student 的实例访问 math、chinese、english这三个属性的时候，都会经过 Score 类里的三个特殊的方法。\n",
    "class Score:\n",
    "    def __init__(self, subject):\n",
    "        self.name = subject\n",
    "\n",
    "    def __get__(self, instance, owner):\n",
    "        return instance.__dict__[self.name]\n",
    "\n",
    "    def __set__(self, instance, value):\n",
    "        if 0 <= value <= 100:\n",
    "            instance.__dict__[self.name] = value\n",
    "        else:\n",
    "            raise ValueError\n",
    "\n",
    "class Student:\n",
    "    math = Score(\"math\")\n",
    "    chinese = Score(\"chinese\")\n",
    "    english = Score(\"english\")\n",
    "\n",
    "    def __init__(self, name, math, chinese, english):\n",
    "        self.name = name\n",
    "        self.math = math\n",
    "        self.chinese = chinese\n",
    "        self.english = english\n",
    "\n",
    "    def __repr__(self):\n",
    "        return \"<Student: {}, math:{}, chinese: {}, english:{}>\".format(\n",
    "                self.name, self.math, self.chinese, self.english\n",
    "            )\n",
    "std = Student('ace',99,99,99)\n",
    "std"
   ]
  },
  {
   "cell_type": "code",
   "execution_count": 26,
   "metadata": {},
   "outputs": [
    {
     "output_type": "stream",
     "name": "stdout",
     "text": [
      "in BaseClass\n"
     ]
    }
   ],
   "source": [
    "# type是Python在背后用来创建所有类的元类,object 也是由type创建的,type自己也是由type自己创建的.\n",
    "type(object)\n",
    "# 一个实例的类型，是类\n",
    "# 一个类的类型，是元类\n",
    "# 一个元类的类型，是type\n",
    "class BaseClass(type):\n",
    "    def __new__(cls, *args, **kwargs):\n",
    "        print(\"in BaseClass\")\n",
    "        return super().__new__(cls, *args, **kwargs)\n",
    "\n",
    "class User(metaclass=BaseClass):\n",
    "    def __init__(self, name):\n",
    "        print(\"in User\")\n",
    "        self.name = name\n",
    "# in BaseClass\n",
    "user = User(\"wangbm\")\n",
    "# in User"
   ]
  },
  {
   "cell_type": "code",
   "execution_count": null,
   "metadata": {},
   "outputs": [],
   "source": [
    "### 使用type创建类\n",
    "# 准备一个基类（父类）\n",
    "class BaseClass:\n",
    "    def talk(self):\n",
    "        print(\"hi\")\n",
    "\n",
    "# 准备一个方法\n",
    "def say(self):\n",
    "    print(\"hello\")\n",
    "\n",
    "# 使用type来创建User类\n",
    "# type()接收三个参数：类的名称，父类（tuple），绑定的方法（dict）\n",
    "User = type(\"User\", (BaseClass, ), {\"name\":\"user\", \"say\":say})\n",
    "a = User()\n",
    "a.talk()"
   ]
  }
 ]
}