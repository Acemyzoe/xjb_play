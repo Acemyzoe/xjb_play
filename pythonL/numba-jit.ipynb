{
 "metadata": {
  "language_info": {
   "codemirror_mode": {
    "name": "ipython",
    "version": 3
   },
   "file_extension": ".py",
   "mimetype": "text/x-python",
   "name": "python",
   "nbconvert_exporter": "python",
   "pygments_lexer": "ipython3",
   "version": "3.8.5-final"
  },
  "orig_nbformat": 2,
  "kernelspec": {
   "name": "python3",
   "display_name": "Python 3",
   "language": "python"
  }
 },
 "nbformat": 4,
 "nbformat_minor": 2,
 "cells": [
  {
   "cell_type": "code",
   "execution_count": null,
   "metadata": {},
   "outputs": [],
   "source": [
    "from numba import njit\n",
    "import numpy as np\n",
    "\n",
    "@njit# Set \"nopython\" mode for best performance, equivalent to @njit\n",
    "def go_fast(a): # Function is compiled to machine code when called the first time\n",
    "    trace = 0.0\n",
    "    for i in range(a.shape[0]):   # Numba likes loops\n",
    "        trace += np.tanh(a[i, i]) # Numba likes NumPy functions\n",
    "    return a + trace              # Numba likes NumPy broadcasting\n",
    "\n",
    "def main():\n",
    "    x = np.arange(100).reshape(10, 10)\n",
    "    go_fast(x)"
   ]
  },
  {
   "cell_type": "code",
   "execution_count": null,
   "metadata": {},
   "outputs": [],
   "source": [
    "import timeit\n",
    "print(timeit.timeit(\"main()\", setup=\"from __main__ import main\",number=100000))"
   ]
  },
  {
   "cell_type": "code",
   "execution_count": null,
   "metadata": {},
   "outputs": [],
   "source": [
    "from typing import List\n",
    "from numba.experimental import jitclass\n",
    "from numba.typed import List as NumbaList\n",
    "\n",
    "@jitclass\n",
    "class Counter:\n",
    "    value: int\n",
    "\n",
    "    def __init__(self):\n",
    "        self.value = 0\n",
    "\n",
    "    def get(self) -> int:\n",
    "        ret = self.value\n",
    "        self.value += 1\n",
    "        return ret\n",
    "\n",
    "@jitclass\n",
    "class ListLoopIterator:\n",
    "    counter: Counter\n",
    "    items: List[float]\n",
    "\n",
    "    def __init__(self, items: List[float]):\n",
    "        self.items = items\n",
    "        self.counter = Counter()\n",
    "\n",
    "    def get(self) -> float:\n",
    "        idx = self.counter.get() % len(self.items)\n",
    "        return self.items[idx]\n",
    "\n",
    "def demo():\n",
    "    items = NumbaList([3.14, 2.718, 0.123, -4.])\n",
    "    loop_itr = ListLoopIterator(items)\n"
   ]
  },
  {
   "cell_type": "code",
   "execution_count": null,
   "metadata": {},
   "outputs": [],
   "source": [
    "import timeit\n",
    "print(timeit.timeit(\"demo()\", setup=\"from __main__ import demo\",number=100))"
   ]
  },
  {
   "cell_type": "code",
   "execution_count": null,
   "metadata": {},
   "outputs": [],
   "source": [
    "import numpy as np\n",
    "a = np.linspace(0,100,10**6) # 创建一个长度为100万的数组\n",
    "from math import sin\n",
    "import numba as nb\n",
    "\n",
    "@nb.vectorize()\n",
    "def nb_vec_sin(a):\n",
    "    return sin(a)\n",
    "\n",
    "def demo():\n",
    "    nb_vec_sin(a)\n",
    "    # np.sin(a)"
   ]
  },
  {
   "cell_type": "code",
   "execution_count": null,
   "metadata": {},
   "outputs": [],
   "source": [
    "import timeit\n",
    "print(timeit.timeit(\"demo()\",setup=\"from __main__ import demo\",number=100))"
   ]
  },
  {
   "cell_type": "code",
   "execution_count": null,
   "metadata": {},
   "outputs": [],
   "source": []
  }
 ]
}