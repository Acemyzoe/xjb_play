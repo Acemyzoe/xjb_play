{
 "metadata": {
  "language_info": {
   "codemirror_mode": {
    "name": "ipython",
    "version": 3
   },
   "file_extension": ".py",
   "mimetype": "text/x-python",
   "name": "python",
   "nbconvert_exporter": "python",
   "pygments_lexer": "ipython3",
   "version": "3.9.0-final"
  },
  "orig_nbformat": 2,
  "kernelspec": {
   "name": "python3",
   "display_name": "Python 3",
   "language": "python"
  }
 },
 "nbformat": 4,
 "nbformat_minor": 2,
 "cells": [
  {
   "cell_type": "code",
   "execution_count": 3,
   "metadata": {},
   "outputs": [
    {
     "output_type": "stream",
     "name": "stdout",
     "text": [
      "start:\n1+2=3\nend.\n"
     ]
    }
   ],
   "source": [
    "# 普通装饰器\n",
    "def logger(func):\n",
    "    def wrapper(*args,**kw):\n",
    "        print('start:'.format(func.__name__))\n",
    "        func(*args,**kw)\n",
    "        print('end.')\n",
    "    return wrapper\n",
    "\n",
    "@logger\n",
    "def add(x,y):\n",
    "    print(\"{}+{}={}\".format(x,y,x+y))\n",
    "\n",
    "add(1,2)"
   ]
  },
  {
   "cell_type": "code",
   "execution_count": 4,
   "metadata": {},
   "outputs": [
    {
     "output_type": "stream",
     "name": "stdout",
     "text": [
      "你好\n"
     ]
    }
   ],
   "source": [
    "# 带参数的装饰器\n",
    "def sayhi(country):\n",
    "    def wrapper(func):\n",
    "        def deco(*args,**kw):\n",
    "            if country == \"china\":\n",
    "                print(\"你好\")\n",
    "            elif country == \"america\":\n",
    "                print(\"hello\")\n",
    "            else:\n",
    "                return\n",
    "            func(*args,**kw)\n",
    "        return deco\n",
    "    return wrapper\n",
    "\n",
    "@sayhi('china')\n",
    "def one():\n",
    "    pass\n",
    "\n",
    "one()"
   ]
  },
  {
   "cell_type": "code",
   "execution_count": 7,
   "metadata": {},
   "outputs": [
    {
     "output_type": "stream",
     "name": "stdout",
     "text": [
      "[INFO] say() is running \nsay hi\n"
     ]
    }
   ],
   "source": [
    "# 不带参数的类装饰器\n",
    "class logger(object):\n",
    "    def __init__(self,func):\n",
    "        self.func = func\n",
    "    def __call__(self,*args,**kw):\n",
    "        print(\"[INFO] {}() is running \".format(self.func.__name__))\n",
    "        return self.func(*args,**kw)\n",
    "@logger\n",
    "def say(something):\n",
    "    print(\"say {}\".format(something))\n",
    "say(\"hi\")"
   ]
  },
  {
   "cell_type": "code",
   "execution_count": 12,
   "metadata": {},
   "outputs": [
    {
     "output_type": "stream",
     "name": "stdout",
     "text": [
      "[WARNING] say() is running \nsay hi\n"
     ]
    }
   ],
   "source": [
    "# 带参数的类装饰器\n",
    "class logger(object):\n",
    "    def __init__(self,level='INFO'):\n",
    "        self.level = level\n",
    "    def __call__(self,func):\n",
    "        def wrapper(*args,**kw):\n",
    "            print(\"[{level}] {func}() is running \".format(level=self.level,func=func.__name__))\n",
    "            func(*args,**kw)\n",
    "        return wrapper\n",
    "\n",
    "@logger(level='WARNING')\n",
    "def say(something):\n",
    "    print(\"say {}\".format(something))\n",
    "say(\"hi\")"
   ]
  },
  {
   "cell_type": "code",
   "execution_count": null,
   "metadata": {},
   "outputs": [],
   "source": [
    "# Python 对某个对象是否能通过装饰器（ @decorator）形式使用只有一个要求：\n",
    "# decorator 必须是一个“可被调用（callable）的对象。\n",
    "# 使用 类和偏函数结合实现一个与众不同的装饰器\n",
    "\n",
    "# 用装饰器来实现单例模式"
   ]
  }
 ]
}